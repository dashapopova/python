{
 "cells": [
  {
   "cell_type": "code",
   "execution_count": 2,
   "metadata": {},
   "outputs": [],
   "source": [
    "import matplotlib.pyplot as plt"
   ]
  },
  {
   "cell_type": "code",
   "execution_count": 3,
   "metadata": {},
   "outputs": [
    {
     "name": "stdout",
     "output_type": "stream",
     "text": [
      "303.6 0 0 0 0 0\n"
     ]
    },
    {
     "ename": "NameError",
     "evalue": "name 'e_f2' is not defined",
     "output_type": "error",
     "traceback": [
      "\u001b[1;31m---------------------------------------------------------------------------\u001b[0m",
      "\u001b[1;31mNameError\u001b[0m                                 Traceback (most recent call last)",
      "\u001b[1;32m<ipython-input-3-60b8d4a5b92a>\u001b[0m in \u001b[0;36m<module>\u001b[1;34m()\u001b[0m\n\u001b[0;32m     68\u001b[0m                     \u001b[0mkI_f2\u001b[0m \u001b[1;33m=\u001b[0m \u001b[0mk_I_f2\u001b[0m\u001b[1;33m/\u001b[0m\u001b[0mkcounter_I\u001b[0m\u001b[1;33m\u001b[0m\u001b[0m\n\u001b[0;32m     69\u001b[0m \u001b[0mprint\u001b[0m\u001b[1;33m(\u001b[0m\u001b[0mi_f1\u001b[0m\u001b[1;33m,\u001b[0m \u001b[0me_f1\u001b[0m\u001b[1;33m,\u001b[0m \u001b[0mI_f1\u001b[0m\u001b[1;33m,\u001b[0m \u001b[0mki_f1\u001b[0m\u001b[1;33m,\u001b[0m \u001b[0mke_f1\u001b[0m\u001b[1;33m,\u001b[0m \u001b[0mkI_f1\u001b[0m\u001b[1;33m)\u001b[0m\u001b[1;33m\u001b[0m\u001b[0m\n\u001b[1;32m---> 70\u001b[1;33m \u001b[0mprint\u001b[0m\u001b[1;33m(\u001b[0m\u001b[0mi_f2\u001b[0m\u001b[1;33m,\u001b[0m \u001b[0me_f2\u001b[0m\u001b[1;33m,\u001b[0m \u001b[0mI_f2\u001b[0m\u001b[1;33m,\u001b[0m \u001b[0mki_f2\u001b[0m\u001b[1;33m,\u001b[0m \u001b[0mke_f2\u001b[0m\u001b[1;33m,\u001b[0m \u001b[0mkI_f2\u001b[0m\u001b[1;33m)\u001b[0m\u001b[1;33m\u001b[0m\u001b[0m\n\u001b[0m",
      "\u001b[1;31mNameError\u001b[0m: name 'e_f2' is not defined"
     ]
    }
   ],
   "source": [
    "import csv\n",
    "\n",
    "with open('nanai.csv', encoding='utf-8') as csvfile:\n",
    "    filereader = csv.reader(csvfile, delimiter=';', quotechar='|')\n",
    "    n_i_f1 = 0\n",
    "    n_i_f2 = 0\n",
    "    n_e_f1 = 0\n",
    "    n_e_f2 = 0\n",
    "    n_I_f1 = 0\n",
    "    n_I_f2 = 0\n",
    "    counter_i = 0\n",
    "    counter_e = 0\n",
    "    counter_I = 0\n",
    "    k_i_f1 = 0\n",
    "    k_i_f2 = 0\n",
    "    k_e_f1 = 0\n",
    "    k_e_f2 = 0\n",
    "    k_I_f1 = 0\n",
    "    k_I_f2 = 0\n",
    "    kcounter_i = 0\n",
    "    kcounter_e = 0\n",
    "    kcounter_I = 0\n",
    "    i_f1, e_f1, I_f1, ki_f1, ke_f1, kI_f1 = 0, 0, 0, 0, 0, 0\n",
    "    for row in filereader:\n",
    "        if row[2] == \"Dzhuen\":\n",
    "            if row[3] == \"i\":\n",
    "                n_i_f1 += float(row[4])\n",
    "                n_i_f2 += float(row[5])\n",
    "                counter_i +=1\n",
    "                if counter_i != 0:\n",
    "                    i_f1 = n_i_f1/counter_i\n",
    "                    i_f2 = n_i_f2/counter_i\n",
    "            elif row[3] == \"e\":\n",
    "                n_e_f1 += float(row[4])\n",
    "                n_e_f2 += float(row[5])\n",
    "                counter_e +=1\n",
    "                if counter_e != 0:\n",
    "                    e_f1 = n_e_f1/counter_e\n",
    "                    e_f2 = n_e_f2/counter_e\n",
    "            elif row[3] == \"I\":\n",
    "                n_I_f1 += float(row[4])\n",
    "                n_I_f2 += float(row[5])\n",
    "                counter_I +=1\n",
    "                if counter_I != 0:\n",
    "                    I_f1 = n_I_f1/counter_I\n",
    "                    I_f2 = n_I_f2/counter_I\n",
    "        elif row[2] == \"Naikhin\":\n",
    "            if row[3] == \"i\":\n",
    "                k_i_f1 += float(row[4])\n",
    "                k_i_f2 += float(row[5])\n",
    "                kcounter_i +=1\n",
    "                if kcounter_i != 0:\n",
    "                    ki_f1 = k_i_f1/kcounter_i\n",
    "                    ki_f2 = k_i_f2/kcounter_i\n",
    "            elif row[3] == \"e\":\n",
    "                k_e_f1 += float(row[4])\n",
    "                k_e_f2 += float(row[5])\n",
    "                kcounter_e +=1\n",
    "                if kcounter_e != 0:\n",
    "                    ke_f1 = k_e_f1/kcounter_e\n",
    "                    ke_f2 = k_e_f2/kcounter_e\n",
    "            elif row[3] == \"I\":\n",
    "                k_I_f1 += float(row[4])\n",
    "                k_I_f2 += float(row[5])\n",
    "                kcounter_I +=1\n",
    "                if kcounter_I != 0:\n",
    "                    kI_f1 = k_I_f1/kcounter_I\n",
    "                    kI_f2 = k_I_f2/kcounter_I\n",
    "print(i_f1, e_f1, I_f1, ki_f1, ke_f1, kI_f1)\n",
    "print(i_f2, e_f2, I_f2, ki_f2, ke_f2, kI_f2)"
   ]
  },
  {
   "cell_type": "code",
   "execution_count": null,
   "metadata": {},
   "outputs": [],
   "source": [
    "X = [1, 2, 3, 1, 2, 3]\n",
    "Y = [i_f1, e_f1, I_f1, ki_f1, ke_f1, kI_f1]\n",
    "colors = ['red', 'red', 'red', 'green', 'green', 'green']\n",
    "\n",
    "marker = ['^', '^', '^', 'o', 'o', 'o']\n",
    "\n",
    "#plt.scatter(X, Y, s=[60, 60, 60, 60, 60, 60], c=colors)\n",
    "plt.title('Распределение 1 формант по деревням')\n",
    "plt.ylabel('Значение форманты')\n",
    "plt.xlabel('Гласный')\n",
    "\n",
    "dots = ['Dzhuen',  'Dzhuen', 'Dzhuen',\"Naikhin\", \"Naikhin\", \"Naikhin\"]\n",
    "plt.xticks(X, ['i', 'e', 'I', 'i', 'e', 'I'])\n",
    "\n",
    "for x, y, d, n, m in zip(X, Y, dots, colors, marker):\n",
    "    plt.scatter(x, y, s=200, c=n, marker=m)\n",
    "    plt.text(x+0.1, y+7, d)\n",
    "#plt.xticks(X, ['i', 'e', 'I'])\n",
    "\n",
    "plt.show()\n",
    "\n",
    "L = [\"i\", \"e\", \"I\", \"i\", \"e\", \"I\"]\n",
    "M = [i_f2, e_f2, I_f2, ki_f2, ke_f2, kI_f2]\n",
    "colors = ['red', 'red', 'red', 'green', 'green', 'green']\n",
    "\n",
    "marker = ['^', '^', '^', 'o', 'o', 'o']\n",
    "\n",
    "#plt.scatter(X, Y, s=[60, 60, 60, 60, 60, 60], c=colors)\n",
    "plt.title('Распределение 2 формант по деревням')\n",
    "plt.ylabel('Значение форманты')\n",
    "plt.xlabel('Гласный')\n",
    "\n",
    "dots = ['Dzhuen',  'Dzhuen', 'Dzhuen',\"Naikhin\", \"Naikhin\", \"Naikhin\"]\n",
    "\n",
    "for x, y, d, n, m in zip(L, M, dots, colors, marker):\n",
    "    plt.scatter(x, y, s=200, c=n, marker=m)\n",
    "    plt.text(x, y+5, d)\n",
    "\n",
    "plt.show()"
   ]
  }
 ],
 "metadata": {
  "kernelspec": {
   "display_name": "Python 3",
   "language": "python",
   "name": "python3"
  },
  "language_info": {
   "codemirror_mode": {
    "name": "ipython",
    "version": 3
   },
   "file_extension": ".py",
   "mimetype": "text/x-python",
   "name": "python",
   "nbconvert_exporter": "python",
   "pygments_lexer": "ipython3",
   "version": "3.6.5"
  }
 },
 "nbformat": 4,
 "nbformat_minor": 2
}
