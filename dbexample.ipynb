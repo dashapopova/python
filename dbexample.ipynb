{
 "cells": [
  {
   "cell_type": "code",
   "execution_count": 2,
   "metadata": {},
   "outputs": [
    {
     "name": "stdout",
     "output_type": "stream",
     "text": [
      "('and', 'm', 'Dzhuen', 'i', 343.0, 2087.0)\n",
      "('and', 'm', 'Dzhuen', 'i', 276.0, 1987.0)\n",
      "('and', 'm', 'Dzhuen', 'i', 253.0, 2499.0)\n",
      "('and', 'm', 'Dzhuen', 'i', 299.0, 2498.0)\n",
      "('and', 'm', 'Dzhuen', 'i', 347.0, 2600.0)\n"
     ]
    }
   ],
   "source": [
    "import sqlite3\n",
    "\n",
    "with open('nanai.csv', 'r', encoding='utf-8') as f:\n",
    "    f = f.readlines()\n",
    "\n",
    "# подключаемся к базе данных\n",
    "conn = sqlite3.connect('example.db')\n",
    "\n",
    "# создаем объект \"курсор\", которому будем передавать запросы\n",
    "c = conn.cursor()\n",
    "\n",
    "# создаем таблицу\n",
    "c.execute(\"DROP TABLE IF EXISTS nanai\")\n",
    "c.execute(\"CREATE TABLE IF NOT EXISTS nanai(dictor text, sex text, village text, sound text, f1 float, f2 float)\")\n",
    "\n",
    "for row in f:\n",
    "    row = row.split(';')\n",
    "    c.execute(\"INSERT INTO nanai VALUES (?, ?, ?, ?, ?, ?)\", (row[0], row[1], row[2], row[3], row[4], row[5]))\n",
    "\n",
    "# сохраняем изменения\n",
    "conn.commit()\n",
    "\n",
    "for i in c.execute(\"SELECT * FROM nanai WHERE village='Dzhuen' AND sex='m' AND sound='i'\"):\n",
    "    print(i)\n",
    "\n",
    "# отключаемся от БД\n",
    "conn.close()"
   ]
  },
  {
   "cell_type": "code",
   "execution_count": null,
   "metadata": {},
   "outputs": [],
   "source": []
  }
 ],
 "metadata": {
  "kernelspec": {
   "display_name": "Python 3",
   "language": "python",
   "name": "python3"
  },
  "language_info": {
   "codemirror_mode": {
    "name": "ipython",
    "version": 3
   },
   "file_extension": ".py",
   "mimetype": "text/x-python",
   "name": "python",
   "nbconvert_exporter": "python",
   "pygments_lexer": "ipython3",
   "version": "3.6.5"
  }
 },
 "nbformat": 4,
 "nbformat_minor": 2
}
