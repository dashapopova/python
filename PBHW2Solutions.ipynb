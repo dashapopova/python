{
 "cells": [
  {
   "cell_type": "markdown",
   "metadata": {},
   "source": [
    "## Homework Assignment 2 Solutions\n",
    "\n",
    "##### Due Sept 25th, at noon"
   ]
  },
  {
   "cell_type": "markdown",
   "metadata": {},
   "source": [
    "1. **CVC syllables generator -- 1 point** \n",
    "\n",
    "Write a program that generates CVC syllables using `vowels = 'aeiou'` and `consonants = 'ptkbdg'`, but excludes cases where the two consonants are the same. That is, we do not want items like *dod* or *bab*."
   ]
  },
  {
   "cell_type": "code",
   "execution_count": 4,
   "metadata": {},
   "outputs": [
    {
     "name": "stdout",
     "output_type": "stream",
     "text": [
      "pat\n",
      "pak\n",
      "pab\n",
      "pad\n",
      "pag\n",
      "tap\n",
      "tak\n",
      "tab\n",
      "tad\n",
      "tag\n",
      "kap\n",
      "kat\n",
      "kab\n",
      "kad\n",
      "kag\n",
      "bap\n",
      "bat\n",
      "bak\n",
      "bad\n",
      "bag\n",
      "dap\n",
      "dat\n",
      "dak\n",
      "dab\n",
      "dag\n",
      "gap\n",
      "gat\n",
      "gak\n",
      "gab\n",
      "gad\n",
      "pet\n",
      "pek\n",
      "peb\n",
      "ped\n",
      "peg\n",
      "tep\n",
      "tek\n",
      "teb\n",
      "ted\n",
      "teg\n",
      "kep\n",
      "ket\n",
      "keb\n",
      "ked\n",
      "keg\n",
      "bep\n",
      "bet\n",
      "bek\n",
      "bed\n",
      "beg\n",
      "dep\n",
      "det\n",
      "dek\n",
      "deb\n",
      "deg\n",
      "gep\n",
      "get\n",
      "gek\n",
      "geb\n",
      "ged\n",
      "pit\n",
      "pik\n",
      "pib\n",
      "pid\n",
      "pig\n",
      "tip\n",
      "tik\n",
      "tib\n",
      "tid\n",
      "tig\n",
      "kip\n",
      "kit\n",
      "kib\n",
      "kid\n",
      "kig\n",
      "bip\n",
      "bit\n",
      "bik\n",
      "bid\n",
      "big\n",
      "dip\n",
      "dit\n",
      "dik\n",
      "dib\n",
      "dig\n",
      "gip\n",
      "git\n",
      "gik\n",
      "gib\n",
      "gid\n",
      "pot\n",
      "pok\n",
      "pob\n",
      "pod\n",
      "pog\n",
      "top\n",
      "tok\n",
      "tob\n",
      "tod\n",
      "tog\n",
      "kop\n",
      "kot\n",
      "kob\n",
      "kod\n",
      "kog\n",
      "bop\n",
      "bot\n",
      "bok\n",
      "bod\n",
      "bog\n",
      "dop\n",
      "dot\n",
      "dok\n",
      "dob\n",
      "dog\n",
      "gop\n",
      "got\n",
      "gok\n",
      "gob\n",
      "god\n",
      "put\n",
      "puk\n",
      "pub\n",
      "pud\n",
      "pug\n",
      "tup\n",
      "tuk\n",
      "tub\n",
      "tud\n",
      "tug\n",
      "kup\n",
      "kut\n",
      "kub\n",
      "kud\n",
      "kug\n",
      "bup\n",
      "but\n",
      "buk\n",
      "bud\n",
      "bug\n",
      "dup\n",
      "dut\n",
      "duk\n",
      "dub\n",
      "dug\n",
      "gup\n",
      "gut\n",
      "guk\n",
      "gub\n",
      "gud\n"
     ]
    }
   ],
   "source": [
    "#define Vs and Cs\n",
    "vowels = 'aeiou'\n",
    "consonants = 'ptkbdg'\n",
    "#for every vowel, onset, coda\n",
    "for v in vowels:\n",
    "    for o in consonants:\n",
    "        for c in consonants:\n",
    "            #skip if onset == coda\n",
    "            if o == c:\n",
    "                continue\n",
    "            #print combination\n",
    "            print(o,v,c,sep='')"
   ]
  },
  {
   "cell_type": "markdown",
   "metadata": {},
   "source": [
    "2. **Define a proper title case function -- 1 point**\n",
    "\n",
    "Try to do a better job of getting title case.  For example, \"the cat in the hat\".title() ==> \"The Cat In The Hat\", but we want \"The Cat in the Hat\" "
   ]
  },
  {
   "cell_type": "code",
   "execution_count": 8,
   "metadata": {},
   "outputs": [
    {
     "name": "stdout",
     "output_type": "stream",
     "text": [
      "An Ant on a Table\n",
      "The Cat in the Hat\n"
     ]
    }
   ],
   "source": [
    "def proper_title_case(s):\n",
    "    nocaps = [\"the\", \"in\", \"on\", \"a\", \"an\"] # This needs to be extended.\n",
    "    #Your code goes below this comment\n",
    "    s = s.title()\n",
    "    words = s.split(\" \")\n",
    "    new_words = []\n",
    "    for w in words:\n",
    "        if w.lower() in nocaps:\n",
    "            w = w.lower()\n",
    "        new_words.append(w)\n",
    "    y = \" \".join(new_words)\n",
    "    return y[0].upper() + y[1: ]\n",
    "print(proper_title_case('An ant on a table'))#to test your function\n",
    "print(proper_title_case('The Cat In the Hat'))#to test your function"
   ]
  },
  {
   "cell_type": "markdown",
   "metadata": {},
   "source": [
    "3. **Write the function `mean` -- 1 point**\n",
    "\n",
    "Complete the function `mean` for calculating the mean (average) of a \n",
    "list of numeric values.  Your function should take a list `vals` as its \n",
    "argument and return a float.  Keep in mind that `vals` might contain int \n",
    "values.\n",
    "Consider doing it with the in-line function `sum`, which facilitates a fast and readable one-line version of the function.\n"
   ]
  },
  {
   "cell_type": "code",
   "execution_count": 25,
   "metadata": {},
   "outputs": [
    {
     "name": "stdout",
     "output_type": "stream",
     "text": [
      "2.3666666666666667\n"
     ]
    }
   ],
   "source": [
    "def mean(vals):\n",
    "    \"\"\"Return the mean of the values in vals, presupposed to be \n",
    "    numeric (float, int, or long).\"\"\"\n",
    "    #Your code goes below this comment\n",
    "    return float(sum(vals)) / len(vals) if len(vals) > 0 else print('n/a')\n",
    "\n",
    "print(mean([1,5,1.1]))#to test your function"
   ]
  },
  {
   "cell_type": "markdown",
   "metadata": {},
   "source": [
    "4. **Write the function `standard deviation` -- 1 point**\n",
    "\n",
    "Complete the function `sd` for calculating the standard deviation of a \n",
    "list of numeric values.  Your function should take a list `vals` as its \n",
    "value and return a float.  Keep in mind that `vals` might contain int \n",
    "values. For details on calculating the standard deviation, see\n",
    "http://en.wikipedia.org/wiki/Standard_deviation\n",
    "\n",
    "I suggest using `float(len(vals)-1)` for the denominator, but \n",
    "`float(len(vals))` is fine.\n",
    "To get the square root of a float `x`, use `math.sqrt(x)`"
   ]
  },
  {
   "cell_type": "code",
   "execution_count": 17,
   "metadata": {},
   "outputs": [
    {
     "name": "stdout",
     "output_type": "stream",
     "text": [
      "1.0\n"
     ]
    }
   ],
   "source": [
    "import math\n",
    "\n",
    "def sd(vals):\n",
    "    \"\"\"Return the standard deviation of the values in vals, \n",
    "    presupposed to be numeric (float, int).\"\"\"\n",
    "    #Your code goes below this comment, use the mean fuction defined in the previous task\n",
    "    sum = 0.0\n",
    "    for x in vals:\n",
    "        sum += (x - mean(vals))**2\n",
    "    return math.sqrt(sum/float(len(vals)-1)) if len(vals) > 1 else print('n/a')\n",
    "\n",
    "print(sd([0,1,2]))#to test your function"
   ]
  },
  {
   "cell_type": "markdown",
   "metadata": {},
   "source": [
    "5.1. **Basic CSV parser -- 2 points**. \n",
    "\n",
    "Complete the following function for turning the str \n",
    "`myspreadsheet` into a 10x3 matrix of data.  I should emphasize that the \n",
    "top line of `myspreadsheet` is not part of the data.  It's just there to \n",
    "help us out.\n",
    "Column 0 of your data should be int values.\n",
    "Column 1 of your data should be float values."
   ]
  },
  {
   "cell_type": "code",
   "execution_count": 19,
   "metadata": {},
   "outputs": [
    {
     "name": "stdout",
     "output_type": "stream",
     "text": [
      "[[1, 74.37000326528938, 'Psychologist'], [2, 67.49686206937491, 'Psychologist'], [3, 74.92356434760966, 'Psychologist'], [4, 64.62372198999978, 'Psychologist'], [5, 67.76787900026083, 'Linguist'], [6, 61.50397707923559, 'Psychologist'], [7, 62.73680961908566, 'Psychologist'], [8, 68.60803984763902, 'Linguist'], [9, 70.16090500135535, 'Psychologist'], [10, 76.81144438287173, 'Linguist']]\n"
     ]
    }
   ],
   "source": [
    "myspreadsheet =\"\"\"Subject,Height,Occupation\n",
    "1,74.37000326528938,Psychologist\n",
    "2,67.49686206937491,Psychologist\n",
    "3,74.92356434760966,Psychologist\n",
    "4,64.62372198999978,Psychologist\n",
    "5,67.76787900026083,Linguist\n",
    "6,61.50397707923559,Psychologist\n",
    "7,62.73680961908566,Psychologist\n",
    "8,68.60803984763902,Linguist\n",
    "9,70.16090500135535,Psychologist\n",
    "10,76.81144438287173,Linguist\"\"\"\n",
    "\n",
    "def csv_parser(s):\n",
    "    \"\"\"Parses the string s into lines, and then parses those lines by\n",
    "    splitting on the comma and converting the numerical data to int.\n",
    "    The output is a list of lists of subject data.\"\"\"\n",
    "    #Your code goes below this comment\n",
    "    # Data is our output. It will be a list of lists.\n",
    "    data = []    \n",
    "\n",
    "    # Split csv into lines and store them in a list called 'lines'.\n",
    "    lines = s.splitlines()\n",
    "    \n",
    "    # Remove the first element from lines, so that you have only the data lines left.\n",
    "    lines = lines[1: ]\n",
    "    \n",
    "    # At this stage, we loop through the list called lines.\n",
    "    # As you loop\n",
    "    #     i. split each line on the commas;\n",
    "    #    ii. convert the Subject variable to int.\n",
    "    #   iii. convert the Height variable to float.\n",
    "    #    iv. add to data a list consisting of this line's Subject, Height, and Occupation values \n",
    "    for line in lines:\n",
    "        l = line.strip().split(\",\")\n",
    "        l[0] = int(l[0])\n",
    "        l[1] = float(l[1])\n",
    "        data.append(l)\n",
    "    return data\n",
    "print(csv_parser(myspreadsheet))#to test your function"
   ]
  },
  {
   "cell_type": "markdown",
   "metadata": {},
   "source": [
    "5.2. **The mean height -- 2 points**\n",
    "\n",
    "Complete the following function for computing the mean height of the \n",
    "subjects in this data set, using your mean function from above."
   ]
  },
  {
   "cell_type": "code",
   "execution_count": 23,
   "metadata": {},
   "outputs": [
    {
     "name": "stdout",
     "output_type": "stream",
     "text": [
      "68.9003206602722\n"
     ]
    }
   ],
   "source": [
    "def mean_height(data):\n",
    "    \"\"\"Return the mean numerical value of column 1 in an list of lists.\n",
    "    data is the output of csv_parser(myspreadsheet)\"\"\"\n",
    "    #Your code goes below this comment\n",
    "    p = csv_parser(data)\n",
    "    t = tuple(x[1] for x in p)\n",
    "    return mean(t)\n",
    "print(mean_height(myspreadsheet))#to test your function"
   ]
  },
  {
   "cell_type": "markdown",
   "metadata": {},
   "source": [
    "5.3. **Occupation distribution -- 2 points**. \n",
    "\n",
    "Complete the following function so that it \n",
    "returns a dictionary mapping occupation names into the number of times \n",
    "they occur in the data."
   ]
  },
  {
   "cell_type": "code",
   "execution_count": 24,
   "metadata": {},
   "outputs": [
    {
     "name": "stdout",
     "output_type": "stream",
     "text": [
      "{'Linguist': 3, 'Psychologist': 7}\n"
     ]
    }
   ],
   "source": [
    "def occupation_distribution(data):\n",
    "    \"\"\"Returns the list of occupations given in column 2 of data.\n",
    "    data is the output of csv_parser(myspreadsheet)\"\"\"\n",
    "    #Your code goes below this comment\n",
    "    p = csv_parser(data)\n",
    "    t = tuple(x[2] for x in p)\n",
    "    occupation_dictionary = {\"Linguist\" : t.count(\"Linguist\"), \"Psychologist\" : t.count(\"Psychologist\")}\n",
    "    return occupation_dictionary\n",
    "print(occupation_distribution(myspreadsheet))#to test your function"
   ]
  }
 ],
 "metadata": {
  "kernelspec": {
   "display_name": "Python 3",
   "language": "python",
   "name": "python3"
  },
  "language_info": {
   "codemirror_mode": {
    "name": "ipython",
    "version": 3
   },
   "file_extension": ".py",
   "mimetype": "text/x-python",
   "name": "python",
   "nbconvert_exporter": "python",
   "pygments_lexer": "ipython3",
   "version": "3.6.5"
  }
 },
 "nbformat": 4,
 "nbformat_minor": 2
}
