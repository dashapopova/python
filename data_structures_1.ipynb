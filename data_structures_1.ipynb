{
 "cells": [
  {
   "cell_type": "markdown",
   "metadata": {},
   "source": [
    "# Структуры данных"
   ]
  },
  {
   "cell_type": "markdown",
   "metadata": {},
   "source": [
    "**План занятия**\n",
    "\n",
    "1. Списки (list)\n",
    "2. Словари (dict)\n",
    "3. Кортежи (tuple)\n",
    "4. Множества (set)\n",
    "5. defaultdict\n",
    "6. Counter"
   ]
  },
  {
   "cell_type": "markdown",
   "metadata": {},
   "source": [
    "## Зачем?\n",
    "\n",
    "Структуры данных - это база питона, потому что невозможно просто хранить значения переменных в виде строки или числа, нужно как-то организовать их наборы. Выбор правильной структуры данных дает больше возможностей для использования и повышает скорость работы программы, что важно для работы с большими объемами данных"
   ]
  },
  {
   "cell_type": "markdown",
   "metadata": {},
   "source": [
    "## Списки\n",
    "\n",
    "Список, или массив (list) -- это такая структура данных, где все элементы имеют порядковый номер (индекс), по которому их можно вызвать. Элементы могут повторяться (т.е. в ячейках с разными индексами могут быть записаны переменные с одинаковым значением / одинаковые константы). В списке могут храниться данные разных типов. Записывается в [ ]."
   ]
  },
  {
   "cell_type": "code",
   "execution_count": 1,
   "metadata": {},
   "outputs": [
    {
     "name": "stdout",
     "output_type": "stream",
     "text": [
      "[4.89, 5, 'spam', True, 'spam', 'hello']\n"
     ]
    }
   ],
   "source": [
    "a = 5\n",
    "b = \"hello\"\n",
    "\n",
    "some_list = [4.89, a, \"spam\", True, \"spam\", b]\n",
    "print(some_list)"
   ]
  },
  {
   "cell_type": "code",
   "execution_count": 2,
   "metadata": {},
   "outputs": [
    {
     "name": "stdout",
     "output_type": "stream",
     "text": [
      "['Из', 'этого', 'предложения', 'получится', 'список']\n",
      "['И', 'з', ' ', 'э', 'т', 'о', 'г', 'о', ' ', 'п', 'р', 'е', 'д', 'л', 'о', 'ж', 'е', 'н', 'и', 'я', ' ', 'п', 'о', 'л', 'у', 'ч', 'и', 'т', 'с', 'я', ' ', 'с', 'п', 'и', 'с', 'о', 'к']\n"
     ]
    }
   ],
   "source": [
    "sentence = \"Из этого предложения получится список\"\n",
    "letters = list(sentence)  # разбивает строку на минимальные элементы, т.е. посимвольно\n",
    "words = sentence.split() # разбивает строку на слова по пробелам\n",
    "\n",
    "print(words)\n",
    "print(letters)"
   ]
  },
  {
   "cell_type": "markdown",
   "metadata": {},
   "source": [
    "К элементам массива можно обращаться как по ключу от 0 до длины - 1, так и по отрицательному ключу, где -1 - это последний элемент, -2 - предпоследний и так далее"
   ]
  },
  {
   "cell_type": "code",
   "execution_count": 3,
   "metadata": {},
   "outputs": [
    {
     "name": "stdout",
     "output_type": "stream",
     "text": [
      "first\n",
      "third\n",
      "second\n"
     ]
    }
   ],
   "source": [
    "a = ['first', 'second', 'third']\n",
    "print(a[0])\n",
    "print(a[-1])\n",
    "print(a[-2])"
   ]
  },
  {
   "cell_type": "markdown",
   "metadata": {},
   "source": [
    "list() принимает на вход только один аргумент. Этот аргумент должен быть итерируемым (по нему можно пройти циклом for, например, строка). Из числа сделать список не получится"
   ]
  },
  {
   "cell_type": "code",
   "execution_count": 47,
   "metadata": {},
   "outputs": [
    {
     "ename": "TypeError",
     "evalue": "'int' object is not iterable",
     "output_type": "error",
     "traceback": [
      "\u001b[0;31m---------------------------------------------------------------------------\u001b[0m",
      "\u001b[0;31mTypeError\u001b[0m                                 Traceback (most recent call last)",
      "\u001b[0;32m<ipython-input-47-11a0477006f6>\u001b[0m in \u001b[0;36m<module>\u001b[0;34m\u001b[0m\n\u001b[0;32m----> 1\u001b[0;31m \u001b[0mnumbers\u001b[0m \u001b[0;34m=\u001b[0m \u001b[0mlist\u001b[0m\u001b[0;34m(\u001b[0m\u001b[0;36m123\u001b[0m\u001b[0;34m)\u001b[0m\u001b[0;34m\u001b[0m\u001b[0;34m\u001b[0m\u001b[0m\n\u001b[0m",
      "\u001b[0;31mTypeError\u001b[0m: 'int' object is not iterable"
     ]
    }
   ],
   "source": [
    "numbers = list(123)"
   ]
  },
  {
   "cell_type": "markdown",
   "metadata": {},
   "source": [
    "Список может быть пустым"
   ]
  },
  {
   "cell_type": "code",
   "execution_count": 5,
   "metadata": {},
   "outputs": [
    {
     "name": "stdout",
     "output_type": "stream",
     "text": [
      "[]\n"
     ]
    }
   ],
   "source": [
    "new_list = []\n",
    "print(new_list)"
   ]
  },
  {
   "cell_type": "markdown",
   "metadata": {},
   "source": [
    "В списке может лежать список или любой другой объект"
   ]
  },
  {
   "cell_type": "code",
   "execution_count": 6,
   "metadata": {},
   "outputs": [
    {
     "name": "stdout",
     "output_type": "stream",
     "text": [
      "[5, [6, 7, 8], {1, 2, 3}]\n"
     ]
    }
   ],
   "source": [
    "a = [[3, 4, 5], [6, 7, 8], {1, 2, 3}]\n",
    "a[0] = 5\n",
    "print(a)"
   ]
  },
  {
   "cell_type": "markdown",
   "metadata": {},
   "source": [
    "Но! Надо быть аккуратными, потому что бывает так:"
   ]
  },
  {
   "cell_type": "code",
   "execution_count": 7,
   "metadata": {},
   "outputs": [
    {
     "name": "stdout",
     "output_type": "stream",
     "text": [
      "[[1, 2, 3], 1, 5, 6]\n",
      "[[9, 2, 3], 1, 5, 6]\n",
      "[[9, 2, 3], 1, 5, 6]\n"
     ]
    }
   ],
   "source": [
    "a = [1, 2, 3]\n",
    "b = [a, 1, 5, 6]\n",
    "print(b)\n",
    "a[0] = 9\n",
    "print(b)\n",
    "a = [20, 10, 11]\n",
    "print(b)"
   ]
  },
  {
   "cell_type": "markdown",
   "metadata": {},
   "source": [
    "**Основные методы и операции с list**\n",
    "\n",
    "1. \\+ : простое сложение\n",
    "2. append : добавить элемент в конец\n",
    "3. extend : расширить список (то же, что и +)"
   ]
  },
  {
   "cell_type": "code",
   "execution_count": 8,
   "metadata": {},
   "outputs": [
    {
     "name": "stdout",
     "output_type": "stream",
     "text": [
      "[1, 2, 3, 5]\n",
      "[1, 2, 3, 5, [6, 7, 8]]\n"
     ]
    }
   ],
   "source": [
    "a = [1, 2, 3]\n",
    "a.append(5)\n",
    "print(a)\n",
    "a.append([6,7,8])\n",
    "print(a)"
   ]
  },
  {
   "cell_type": "markdown",
   "metadata": {},
   "source": [
    "Сложение можно записать разными способами"
   ]
  },
  {
   "cell_type": "code",
   "execution_count": 9,
   "metadata": {},
   "outputs": [
    {
     "name": "stdout",
     "output_type": "stream",
     "text": [
      "[1, 2, 3, 7, 8, 9]\n",
      "[1, 2, 3, 7, 8, 9]\n",
      "[1, 2, 3, 7, 8, 9]\n"
     ]
    }
   ],
   "source": [
    "a = [1, 2, 3]\n",
    "a.extend([7, 8, 9])\n",
    "print(a)\n",
    "\n",
    "a = [1, 2, 3]\n",
    "a = a + [7, 8, 9]\n",
    "print(a)\n",
    "\n",
    "a = [1, 2, 3]\n",
    "a += [7, 8, 9]\n",
    "print(a)"
   ]
  },
  {
   "cell_type": "markdown",
   "metadata": {},
   "source": [
    "Можно удалить элемент по ключу"
   ]
  },
  {
   "cell_type": "code",
   "execution_count": 10,
   "metadata": {},
   "outputs": [
    {
     "name": "stdout",
     "output_type": "stream",
     "text": [
      "['this', 'is', 'list']\n"
     ]
    }
   ],
   "source": [
    "a = ['this', 'is', 'some', 'list']\n",
    "del a[2]\n",
    "print(a)"
   ]
  },
  {
   "cell_type": "markdown",
   "metadata": {},
   "source": [
    "Срез - это копия части массива. Параметры задаются в квадратных скобках после имени списка"
   ]
  },
  {
   "cell_type": "code",
   "execution_count": 11,
   "metadata": {},
   "outputs": [
    {
     "name": "stdout",
     "output_type": "stream",
     "text": [
      "[50, 60, 70, 80, 90, 100]\n",
      "[10, 20, 30, 40, 50, 60]\n",
      "[50, 60]\n",
      "[30, 50, 70]\n",
      "[90, 80, 70, 60, 50, 40]\n",
      "[100, 90, 80, 70, 60, 50, 40, 30, 20, 10]\n"
     ]
    }
   ],
   "source": [
    "a = [10, 20, 30, 40, 50, 60, 70, 80, 90, 100]\n",
    "print(a[4:])  # элементы, начиная с индекса 4\n",
    "print(a[:6])  # элементы, до индекса 6 (не включительно)\n",
    "print(a[4:6])  # элементы, с индекса 4 по 6 (не включительно)\n",
    "print(a[2:8:2])  # элементы, с индекса 2 по 8 (не включительно) с шагом 2\n",
    "print(a[8:2:-1])  # элементы, с индекса 2 (не включительно) по 8 (включительно) с шагом -1 (в обратном порядке)\n",
    "print(a[::-1])  # элементы в обратном порядке"
   ]
  },
  {
   "cell_type": "markdown",
   "metadata": {},
   "source": [
    "List comprehensions - как еще можно создавать списки:"
   ]
  },
  {
   "cell_type": "code",
   "execution_count": 2,
   "metadata": {},
   "outputs": [
    {
     "data": {
      "text/plain": [
       "['this', 'is']"
      ]
     },
     "execution_count": 2,
     "metadata": {},
     "output_type": "execute_result"
    }
   ],
   "source": [
    "# напоминание a = ['this', 'is', 'list']\n",
    "new_a = [x for x in a if x.endswith(\"is\")]\n",
    "new_a"
   ]
  },
  {
   "cell_type": "code",
   "execution_count": 3,
   "metadata": {},
   "outputs": [
    {
     "data": {
      "text/plain": [
       "[1, 3, 5, 7, 9]"
      ]
     },
     "execution_count": 3,
     "metadata": {},
     "output_type": "execute_result"
    }
   ],
   "source": [
    "odds = [x for x in range(10) if x%2 == 1]\n",
    "odds"
   ]
  },
  {
   "cell_type": "markdown",
   "metadata": {},
   "source": [
    "## Кортежи\n",
    "\n",
    "Кортеж (tuple) - это тип неизменяемых данных, если элемент списка можно поменять, то у tuple такой возможности нет"
   ]
  },
  {
   "cell_type": "code",
   "execution_count": 12,
   "metadata": {},
   "outputs": [
    {
     "name": "stdout",
     "output_type": "stream",
     "text": [
      "()\n",
      "('brother', 'sister')\n",
      "('Из', 'этого', 'предложения', 'получится', 'список')\n",
      "('И', 'з', ' ', 'э', 'т', 'о', 'г', 'о', ' ', 'п', 'р', 'е', 'д', 'л', 'о', 'ж', 'е', 'н', 'и', 'я', ' ', 'п', 'о', 'л', 'у', 'ч', 'и', 'т', 'с', 'я', ' ', 'с', 'п', 'и', 'с', 'о', 'к')\n"
     ]
    }
   ],
   "source": [
    "# пустой кортеж\n",
    "new_tuple = ()\n",
    "print(new_tuple)\n",
    "\n",
    "# непустой кортеж\n",
    "siblings = ('brother', 'sister')\n",
    "print(siblings)\n",
    "\n",
    "# кортеж из списка\n",
    "words = tuple(words)\n",
    "print(words)\n",
    "\n",
    "# кортеж из строки\n",
    "letters = tuple(sentence) # строка разбивается на минимальные единицы, т.е. посимвольно\n",
    "print(letters)"
   ]
  },
  {
   "cell_type": "code",
   "execution_count": 13,
   "metadata": {},
   "outputs": [
    {
     "name": "stdout",
     "output_type": "stream",
     "text": [
      "('Из', 'этого', 'предложения', 'получится', 'список', 'brother', 'sister')\n",
      "('brother', 'sister', 'brother', 'sister', 'brother', 'sister')\n"
     ]
    }
   ],
   "source": [
    "words += siblings # прибавляем siblings к words и записываем результат в words\n",
    "print(words)\n",
    "\n",
    "big_family = siblings * 3\n",
    "print(big_family)"
   ]
  },
  {
   "cell_type": "code",
   "execution_count": 14,
   "metadata": {},
   "outputs": [
    {
     "name": "stdout",
     "output_type": "stream",
     "text": [
      "Из\n",
      "sister\n",
      "('предложения', 'получится', 'список')\n"
     ]
    }
   ],
   "source": [
    "print(words[0])   # первый элемент кортежа\n",
    "print(words[-1])  # последний элемент кортежа\n",
    "print(words[2:5]) # элементы кортежа со 2 по 5 (включая 2 и не включая 5)"
   ]
  },
  {
   "cell_type": "markdown",
   "metadata": {},
   "source": [
    "## Словари (повторение)\n",
    "\n",
    "Словари - это структура данных, где есть ключи - уникальные идендитикаторы и значения - соответствующие им объекты."
   ]
  },
  {
   "cell_type": "code",
   "execution_count": 15,
   "metadata": {},
   "outputs": [
    {
     "name": "stdout",
     "output_type": "stream",
     "text": [
      "{}\n",
      "{}\n"
     ]
    }
   ],
   "source": [
    "# пустой словарь\n",
    "d = dict()\n",
    "print(d)\n",
    "\n",
    "# пустой словарь\n",
    "d = {}\n",
    "print(d)"
   ]
  },
  {
   "cell_type": "code",
   "execution_count": 16,
   "metadata": {},
   "outputs": [
    {
     "name": "stdout",
     "output_type": "stream",
     "text": [
      "{'a': 2}\n",
      "{'a': 2}\n"
     ]
    }
   ],
   "source": [
    "# словарь со значениями\n",
    "d = {'a': 2}\n",
    "print(d)\n",
    "\n",
    "# словарь со значениями из списка кортежей ключ-значение\n",
    "d = dict([('a', 2)])\n",
    "print(d)"
   ]
  },
  {
   "cell_type": "code",
   "execution_count": 17,
   "metadata": {},
   "outputs": [
    {
     "name": "stdout",
     "output_type": "stream",
     "text": [
      "{'a': None, 'b': None, 'c': None}\n",
      "{'a': 2, 'b': 2, 'c': 2}\n"
     ]
    }
   ],
   "source": [
    "# словарь из заданных ключей, где у каждого значение None\n",
    "d = dict.fromkeys(['a', 'b', 'c'])\n",
    "print(d)\n",
    "\n",
    "# словарь из заданных ключей, где каждому дается в соответствие какое-то одно дефолтное значение\n",
    "d = dict.fromkeys(['a', 'b', 'c'], 2)\n",
    "print(d)"
   ]
  },
  {
   "cell_type": "code",
   "execution_count": 18,
   "metadata": {},
   "outputs": [
    {
     "name": "stdout",
     "output_type": "stream",
     "text": [
      "dict_keys(['a', 'b', 'c'])\n",
      "dict_values([2, 2, 2])\n",
      "dict_items([('a', 2), ('b', 2), ('c', 2)])\n"
     ]
    }
   ],
   "source": [
    "# ключи\n",
    "print(d.keys())\n",
    "\n",
    "# значения\n",
    "print(d.values())\n",
    "\n",
    "# пары ключ-значение\n",
    "print(d.items())"
   ]
  },
  {
   "cell_type": "markdown",
   "metadata": {},
   "source": [
    "Если мы не знаем, есть ключ или нет, но не хотим ошибку KeyError, мы можем брать значения по-другому, получая ничего (None) без ошибки. Для этого используется метод get"
   ]
  },
  {
   "cell_type": "code",
   "execution_count": 48,
   "metadata": {},
   "outputs": [
    {
     "ename": "KeyError",
     "evalue": "7",
     "output_type": "error",
     "traceback": [
      "\u001b[0;31m---------------------------------------------------------------------------\u001b[0m",
      "\u001b[0;31mKeyError\u001b[0m                                  Traceback (most recent call last)",
      "\u001b[0;32m<ipython-input-48-723e14a698a7>\u001b[0m in \u001b[0;36m<module>\u001b[0;34m\u001b[0m\n\u001b[1;32m      1\u001b[0m \u001b[0md\u001b[0m \u001b[0;34m=\u001b[0m \u001b[0;34m{\u001b[0m\u001b[0;36m1\u001b[0m\u001b[0;34m:\u001b[0m \u001b[0;36m90\u001b[0m\u001b[0;34m,\u001b[0m \u001b[0;36m2\u001b[0m\u001b[0;34m:\u001b[0m \u001b[0;36m89\u001b[0m\u001b[0;34m,\u001b[0m \u001b[0;36m3\u001b[0m\u001b[0;34m:\u001b[0m \u001b[0;36m54\u001b[0m\u001b[0;34m}\u001b[0m\u001b[0;34m\u001b[0m\u001b[0;34m\u001b[0m\u001b[0m\n\u001b[0;32m----> 2\u001b[0;31m \u001b[0md\u001b[0m\u001b[0;34m[\u001b[0m\u001b[0;36m7\u001b[0m\u001b[0;34m]\u001b[0m\u001b[0;34m\u001b[0m\u001b[0;34m\u001b[0m\u001b[0m\n\u001b[0m",
      "\u001b[0;31mKeyError\u001b[0m: 7"
     ]
    }
   ],
   "source": [
    "d = {1: 90, 2: 89, 3: 54}\n",
    "d[7]"
   ]
  },
  {
   "cell_type": "code",
   "execution_count": 20,
   "metadata": {},
   "outputs": [
    {
     "name": "stdout",
     "output_type": "stream",
     "text": [
      "None\n"
     ]
    }
   ],
   "source": [
    "d = {1: 90, 2: 89, 3: 54}\n",
    "print(d.get(7))"
   ]
  },
  {
   "cell_type": "markdown",
   "metadata": {},
   "source": [
    "## Множества\n",
    "\n",
    "Множество (set) - это структура данных, чем-то похожая и на массив, и на словарь, но от них отличающаяся.\n",
    "\n",
    "Как и массивы, множества содержат элементы. Но в отличие от массивов, где элементы упорядочены, в множестве они идут в \"произвольном\" порядке.\n",
    "\n",
    "На словари множества похожи тем, что, как и ключи в словарях, элементы множеств неупорядочены и поэтому должны быть уникальны.\n",
    "\n",
    "Поиск в множестве происходит быстрее, чем в массиве, потому что в массивы мы проходим каждый элемент с 1 до последнего или искомого, а во множестве другой, более быстрый алгоритм. Если вам нужно собрать какие-то данные, а потом проверять, есть ли в этих данных что-то, то целесообразно использовать именно множества. Во-вторых, преобразование в множества помогают быстро превратить набор данных в набор уникальных элементов."
   ]
  },
  {
   "cell_type": "code",
   "execution_count": 21,
   "metadata": {},
   "outputs": [
    {
     "name": "stdout",
     "output_type": "stream",
     "text": [
      "{'mat', 'the', 'is', 'cat', 'on'}\n",
      "{'fox', 'crocodile', 'elephant', 'cat', 'dog'}\n"
     ]
    }
   ],
   "source": [
    "# создаем множество из списка (массива)\n",
    "\n",
    "sentence = \"the cat is on the mat\"\n",
    "words = set(sentence.split())  # превращаем список, который возвращает split(), в массив\n",
    "animals = set(['cat', 'dog', 'elephant', 'crocodile', 'fox', 'cat', 'elephant'])\n",
    "\n",
    "print(words)\n",
    "print(animals)"
   ]
  },
  {
   "cell_type": "code",
   "execution_count": 22,
   "metadata": {},
   "outputs": [
    {
     "name": "stdout",
     "output_type": "stream",
     "text": [
      "{'n', 'c', 'o', 'h', 'a', 's', 't', 'm', 'e', ' ', 'i'}\n"
     ]
    }
   ],
   "source": [
    "# создаем множество из строки\n",
    "\n",
    "letters = set(sentence)  # разбивает строку на минимальные элементы, т.е. посимвольно\n",
    "print(letters)"
   ]
  },
  {
   "cell_type": "markdown",
   "metadata": {},
   "source": [
    "Обратите внимание, что все элементы получившихся множеств уникальны! Если вам не нужно знать, сколько раз встречаются объекты и в каком порядке, можно использовать множество.\n",
    "\n",
    "Множества нельзя складывать, зато можно добавлять в них элементы -- это делается функцией add(), которая тоже пишется через точку после названия множества."
   ]
  },
  {
   "cell_type": "code",
   "execution_count": 23,
   "metadata": {},
   "outputs": [
    {
     "name": "stdout",
     "output_type": "stream",
     "text": [
      "{'tiger', 'fox', 'crocodile', 'elephant', 'cat', 'dog'}\n"
     ]
    }
   ],
   "source": [
    "animals.add('tiger')\n",
    "print(animals)"
   ]
  },
  {
   "cell_type": "code",
   "execution_count": 24,
   "metadata": {},
   "outputs": [
    {
     "data": {
      "text/plain": [
       "dict"
      ]
     },
     "execution_count": 24,
     "metadata": {},
     "output_type": "execute_result"
    }
   ],
   "source": [
    "a = {}\n",
    "type(a)"
   ]
  },
  {
   "cell_type": "code",
   "execution_count": 25,
   "metadata": {},
   "outputs": [
    {
     "name": "stdout",
     "output_type": "stream",
     "text": [
      "set()\n"
     ]
    }
   ],
   "source": [
    "# пустое множество\n",
    "new_set = set() # обратите внимание, что просто скобочек в данном случае недостаточно!\n",
    "print(new_set)"
   ]
  },
  {
   "cell_type": "code",
   "execution_count": 26,
   "metadata": {},
   "outputs": [
    {
     "name": "stdout",
     "output_type": "stream",
     "text": [
      "{1, 2, 3, 4, 5, 6, 7, 8, 9}\n",
      "{4, 5, 6}\n",
      "{1, 2, 3}\n",
      "{1, 2, 3, 7, 8, 9}\n"
     ]
    }
   ],
   "source": [
    "a = set([1, 2, 3, 4, 5, 6])\n",
    "b = set([4, 5, 6, 7, 8, 9])\n",
    "\n",
    "# объединение\n",
    "c = a | b\n",
    "print(c)\n",
    "\n",
    "# пересечение\n",
    "c = a & b\n",
    "print(c)\n",
    "\n",
    "# разность\n",
    "c = a - b\n",
    "print(c)\n",
    "\n",
    "# симметрическая разность, то есть элементы, входящие в a или в b, но не в оба множества одновременно\n",
    "c = a ^ b\n",
    "print(c)"
   ]
  },
  {
   "cell_type": "code",
   "execution_count": null,
   "metadata": {},
   "outputs": [],
   "source": []
  },
  {
   "cell_type": "markdown",
   "metadata": {},
   "source": [
    "## Основные функции\n",
    "\n",
    "1. sum - сумма элементов\n",
    "2. len - длина (или количество элементов)\n",
    "3. sorted - сортировка\n",
    "4. enumerate - проход с нумерацией"
   ]
  },
  {
   "cell_type": "code",
   "execution_count": 27,
   "metadata": {},
   "outputs": [
    {
     "name": "stdout",
     "output_type": "stream",
     "text": [
      "5\n",
      "15\n"
     ]
    }
   ],
   "source": [
    "a = [1, 2, 3, 4, 5]\n",
    "print(len(a))\n",
    "print(sum(a))"
   ]
  },
  {
   "cell_type": "code",
   "execution_count": 28,
   "metadata": {},
   "outputs": [
    {
     "name": "stdout",
     "output_type": "stream",
     "text": [
      "5\n",
      "15\n"
     ]
    }
   ],
   "source": [
    "a = set([1, 2, 3, 4, 5])\n",
    "print(len(a))\n",
    "print(sum(a))"
   ]
  },
  {
   "cell_type": "code",
   "execution_count": 29,
   "metadata": {},
   "outputs": [
    {
     "name": "stdout",
     "output_type": "stream",
     "text": [
      "{1: 10, 2: 10, 3: 10, 4: 10, 5: 10}\n",
      "5\n",
      "15\n"
     ]
    }
   ],
   "source": [
    "a = dict.fromkeys([1, 2, 3, 4, 5], 10)\n",
    "print(a)\n",
    "print(len(a))\n",
    "print(sum(a)) # сумма ключей"
   ]
  },
  {
   "cell_type": "code",
   "execution_count": 46,
   "metadata": {},
   "outputs": [
    {
     "name": "stdout",
     "output_type": "stream",
     "text": [
      "{'1': 10, '2': 10, '3': 10}\n",
      "3\n"
     ]
    },
    {
     "ename": "TypeError",
     "evalue": "unsupported operand type(s) for +: 'int' and 'str'",
     "output_type": "error",
     "traceback": [
      "\u001b[0;31m---------------------------------------------------------------------------\u001b[0m",
      "\u001b[0;31mTypeError\u001b[0m                                 Traceback (most recent call last)",
      "\u001b[0;32m<ipython-input-46-b9daaeaaeea2>\u001b[0m in \u001b[0;36m<module>\u001b[0;34m\u001b[0m\n\u001b[1;32m      2\u001b[0m \u001b[0mprint\u001b[0m\u001b[0;34m(\u001b[0m\u001b[0ma\u001b[0m\u001b[0;34m)\u001b[0m\u001b[0;34m\u001b[0m\u001b[0;34m\u001b[0m\u001b[0m\n\u001b[1;32m      3\u001b[0m \u001b[0mprint\u001b[0m\u001b[0;34m(\u001b[0m\u001b[0mlen\u001b[0m\u001b[0;34m(\u001b[0m\u001b[0ma\u001b[0m\u001b[0;34m)\u001b[0m\u001b[0;34m)\u001b[0m\u001b[0;34m\u001b[0m\u001b[0;34m\u001b[0m\u001b[0m\n\u001b[0;32m----> 4\u001b[0;31m \u001b[0mprint\u001b[0m\u001b[0;34m(\u001b[0m\u001b[0msum\u001b[0m\u001b[0;34m(\u001b[0m\u001b[0ma\u001b[0m\u001b[0;34m)\u001b[0m\u001b[0;34m)\u001b[0m \u001b[0;31m# сумма ключей - здесь ошибка, потому что нельзя сложить строки математически\u001b[0m\u001b[0;34m\u001b[0m\u001b[0;34m\u001b[0m\u001b[0m\n\u001b[0m",
      "\u001b[0;31mTypeError\u001b[0m: unsupported operand type(s) for +: 'int' and 'str'"
     ]
    }
   ],
   "source": [
    "a = dict.fromkeys(['1', '2', '3'], 10)\n",
    "print(a)\n",
    "print(len(a))\n",
    "print(sum(a)) # сумма ключей - здесь ошибка, потому что нельзя сложить строки математически"
   ]
  },
  {
   "cell_type": "code",
   "execution_count": 31,
   "metadata": {},
   "outputs": [
    {
     "name": "stdout",
     "output_type": "stream",
     "text": [
      "-5 800\n",
      "-2 45\n",
      "0 900\n",
      "1 90\n",
      "3 500\n"
     ]
    }
   ],
   "source": [
    "a = {1: 90, -2: 45, 3: 500, -5: 800, 0: 900}\n",
    "\n",
    "for key in sorted(a):\n",
    "    print(key, a[key])"
   ]
  },
  {
   "cell_type": "code",
   "execution_count": 32,
   "metadata": {},
   "outputs": [
    {
     "name": "stdout",
     "output_type": "stream",
     "text": [
      "3 500\n",
      "1 90\n",
      "0 900\n",
      "-2 45\n",
      "-5 800\n"
     ]
    }
   ],
   "source": [
    "for key in sorted(a, reverse=True):\n",
    "    print(key, a[key])"
   ]
  },
  {
   "cell_type": "code",
   "execution_count": 33,
   "metadata": {},
   "outputs": [
    {
     "name": "stdout",
     "output_type": "stream",
     "text": [
      "-2 45\n",
      "1 90\n",
      "3 500\n",
      "-5 800\n",
      "0 900\n"
     ]
    }
   ],
   "source": [
    "# сортировка по значениям\n",
    "for key in sorted(a, key=a.get):\n",
    "    print(key, a[key])"
   ]
  },
  {
   "cell_type": "code",
   "execution_count": 34,
   "metadata": {},
   "outputs": [
    {
     "name": "stdout",
     "output_type": "stream",
     "text": [
      "-5 800\n",
      "3 500\n",
      "-2 45\n",
      "1 90\n",
      "0 900\n"
     ]
    }
   ],
   "source": [
    "# сортировка по квадрату ключа\n",
    "for key in sorted(a, key=lambda x: x**2, reverse=True):\n",
    "    print(key, a[key])"
   ]
  },
  {
   "cell_type": "markdown",
   "metadata": {},
   "source": [
    "Enumerate возвращает номер элемента по порядку и сам элемент, это бывает полезно, когда нужно делать что-то сложно с объектом или есть другой объект, к которому мы адресуемся"
   ]
  },
  {
   "cell_type": "code",
   "execution_count": 35,
   "metadata": {},
   "outputs": [
    {
     "name": "stdout",
     "output_type": "stream",
     "text": [
      "0 900\n",
      "1 45\n",
      "2 67\n",
      "3 23\n",
      "4 1\n"
     ]
    }
   ],
   "source": [
    "a = [900, 45, 67, 23, 1]\n",
    "for key, value in enumerate(a):\n",
    "    print(key, value)"
   ]
  },
  {
   "cell_type": "code",
   "execution_count": 36,
   "metadata": {},
   "outputs": [
    {
     "name": "stdout",
     "output_type": "stream",
     "text": [
      "900 234\n",
      "45 436\n",
      "67 123\n",
      "23 657\n",
      "1 31\n"
     ]
    }
   ],
   "source": [
    "a = [900, 45, 67, 23, 1]\n",
    "b = [234, 436, 123, 657, 31]\n",
    "for key, value in enumerate(a):\n",
    "    print(value, b[key])"
   ]
  },
  {
   "cell_type": "markdown",
   "metadata": {},
   "source": [
    "## defaultdict\n",
    "\n",
    "Если мы составляем частотный словарь или что-то похожее, где есть начальное значение в словаре, но мы, опять же, не хотим получать ошибку KeyError, можно использовать структуру данных defaultdict, который если нет ключа, добавляет такой ключ и ставит в качестве значения некое дефолтное"
   ]
  },
  {
   "cell_type": "code",
   "execution_count": 37,
   "metadata": {},
   "outputs": [],
   "source": [
    "from collections import defaultdict"
   ]
  },
  {
   "cell_type": "code",
   "execution_count": 38,
   "metadata": {},
   "outputs": [
    {
     "name": "stdout",
     "output_type": "stream",
     "text": [
      "defaultdict(<class 'int'>, {})\n",
      "0\n",
      "defaultdict(<class 'int'>, {9: 0})\n"
     ]
    }
   ],
   "source": [
    "d = defaultdict(int) # дефолт - 0\n",
    "print(d)\n",
    "print(d[9])\n",
    "print(d)"
   ]
  },
  {
   "cell_type": "markdown",
   "metadata": {},
   "source": [
    "частотный словарь букв в строке"
   ]
  },
  {
   "cell_type": "code",
   "execution_count": 39,
   "metadata": {},
   "outputs": [
    {
     "name": "stdout",
     "output_type": "stream",
     "text": [
      "defaultdict(<class 'int'>, {'a': 4, ' ': 7, 'l': 5, 'i': 4, 't': 6, 'e': 5, 's': 3, 'c': 2, 'o': 4, 'n': 3, 'v': 1, 'r': 2, ',': 1, 'm': 1})\n"
     ]
    }
   ],
   "source": [
    "d = defaultdict(int)\n",
    "some_string = 'a little less conversation, a little more action'\n",
    "for letter in some_string:\n",
    "    d[letter] += 1\n",
    "print(d)"
   ]
  },
  {
   "cell_type": "markdown",
   "metadata": {},
   "source": [
    "можно превратить такой словарь в обычный"
   ]
  },
  {
   "cell_type": "code",
   "execution_count": 40,
   "metadata": {},
   "outputs": [
    {
     "name": "stdout",
     "output_type": "stream",
     "text": [
      "{'a': 4, ' ': 7, 'l': 5, 'i': 4, 't': 6, 'e': 5, 's': 3, 'c': 2, 'o': 4, 'n': 3, 'v': 1, 'r': 2, ',': 1, 'm': 1}\n"
     ]
    }
   ],
   "source": [
    "d = dict(d)\n",
    "print(d)"
   ]
  },
  {
   "cell_type": "markdown",
   "metadata": {},
   "source": [
    "можно задавать другой тип дефотного значения, например, список\n",
    "\n",
    "в примере - словарь, где слова группируются по длине"
   ]
  },
  {
   "cell_type": "code",
   "execution_count": 41,
   "metadata": {},
   "outputs": [
    {
     "name": "stdout",
     "output_type": "stream",
     "text": [
      "{1: ['a', 'a'], 6: ['little', 'little', 'action'], 4: ['less', 'more'], 13: ['conversation,']}\n"
     ]
    }
   ],
   "source": [
    "d = defaultdict(list)\n",
    "some_string = 'a little less conversation, a little more action'\n",
    "for word in some_string.split():\n",
    "    d[len(word)].append(word)\n",
    "d = dict(d)\n",
    "print(d)"
   ]
  },
  {
   "cell_type": "markdown",
   "metadata": {},
   "source": [
    "## Counter\n",
    "\n",
    "Counter итерируется (проходит) по списку или другому объекту и считает количество элементов, сохраняя все в словарь вида ключ - количество"
   ]
  },
  {
   "cell_type": "code",
   "execution_count": 42,
   "metadata": {},
   "outputs": [],
   "source": [
    "from collections import Counter"
   ]
  },
  {
   "cell_type": "code",
   "execution_count": 43,
   "metadata": {},
   "outputs": [
    {
     "data": {
      "text/plain": [
       "Counter({'a': 4,\n",
       "         ' ': 7,\n",
       "         'l': 5,\n",
       "         'i': 4,\n",
       "         't': 6,\n",
       "         'e': 5,\n",
       "         's': 3,\n",
       "         'c': 2,\n",
       "         'o': 4,\n",
       "         'n': 3,\n",
       "         'v': 1,\n",
       "         'r': 2,\n",
       "         ',': 1,\n",
       "         'm': 1})"
      ]
     },
     "execution_count": 43,
     "metadata": {},
     "output_type": "execute_result"
    }
   ],
   "source": [
    "some_string = 'a little less conversation, a little more action'\n",
    "\n",
    "Counter(some_string)"
   ]
  },
  {
   "cell_type": "code",
   "execution_count": 44,
   "metadata": {},
   "outputs": [
    {
     "data": {
      "text/plain": [
       "Counter({'a': 2,\n",
       "         'little': 2,\n",
       "         'less': 1,\n",
       "         'conversation,': 1,\n",
       "         'more': 1,\n",
       "         'action': 1})"
      ]
     },
     "execution_count": 44,
     "metadata": {},
     "output_type": "execute_result"
    }
   ],
   "source": [
    "some_string = 'a little less conversation, a little more action'\n",
    "\n",
    "Counter(some_string.split())"
   ]
  },
  {
   "cell_type": "markdown",
   "metadata": {},
   "source": [
    "Counter можно складывать или обновлять (добавлять элементы)"
   ]
  },
  {
   "cell_type": "code",
   "execution_count": 45,
   "metadata": {},
   "outputs": [
    {
     "name": "stdout",
     "output_type": "stream",
     "text": [
      "Counter()\n",
      "Counter({'a': 6, 'little': 6, 'less': 3, 'more': 3, 'and': 2, 'conversation,': 1, 'action': 1, 'bite': 1, 'bark': 1, 'fight': 1, 'spark': 1})\n"
     ]
    }
   ],
   "source": [
    "lyrics = [\n",
    "    'a little less conversation, a little more action',\n",
    "    'a little more bite and a little less bark',\n",
    "    'a little less fight and a little more spark'\n",
    "]\n",
    "c = Counter()\n",
    "print(c)\n",
    "\n",
    "for line in lyrics:\n",
    "    c += Counter(line.split())\n",
    "print(c)"
   ]
  }
 ],
 "metadata": {
  "kernelspec": {
   "display_name": "Python 3",
   "language": "python",
   "name": "python3"
  },
  "language_info": {
   "codemirror_mode": {
    "name": "ipython",
    "version": 3
   },
   "file_extension": ".py",
   "mimetype": "text/x-python",
   "name": "python",
   "nbconvert_exporter": "python",
   "pygments_lexer": "ipython3",
   "version": "3.6.5"
  }
 },
 "nbformat": 4,
 "nbformat_minor": 2
}
