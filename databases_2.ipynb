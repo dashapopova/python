{
 "cells": [
  {
   "cell_type": "markdown",
   "metadata": {},
   "source": [
    "# Базы данных. Часть 2\n",
    "\n",
    "## Базы данных и Python\n",
    "\n",
    "Питон позволяет работать с различными СУБД, но проще всего использовать встроенную библиотеку [SQLite](https://docs.python.org/3.5/library/sqlite3.html). Важно также запомнить, что файлы баз данных имеют расширение `.db`."
   ]
  },
  {
   "cell_type": "code",
   "execution_count": 1,
   "metadata": {},
   "outputs": [],
   "source": [
    "import sqlite3\n",
    "\n",
    "# подключаемся к базе данных\n",
    "conn = sqlite3.connect('example2.db')"
   ]
  },
  {
   "cell_type": "markdown",
   "metadata": {},
   "source": [
    "**Важная вещь №1**: после подключения к БД нужно обязательно инициализировать курсор, иначе вы не сможете делать к ней запросы!"
   ]
  },
  {
   "cell_type": "code",
   "execution_count": 2,
   "metadata": {},
   "outputs": [],
   "source": [
    "# создаем объект \"курсор\", которому будем передавать запросы\n",
    "c = conn.cursor()\n",
    "\n",
    "# создаем таблицу\n",
    "c.execute(\"CREATE TABLE IF NOT EXISTS students(name text, major text, year integer)\")\n",
    "\n",
    "# вставляем строку\n",
    "c.execute(\"INSERT INTO students VALUES ('Петя','филология',1), ('Настя','лингвистика',4)\")\n",
    "\n",
    "# сохраняем изменения\n",
    "conn.commit()\n",
    "\n",
    "# отключаемся от БД\n",
    "#conn.close()"
   ]
  },
  {
   "cell_type": "markdown",
   "metadata": {},
   "source": [
    "**Важная вещь №2**: если вы что-то изменили, нужно обязательно закоммитить изменения, иначе они не сохранятся в файле БД!\n",
    "\n",
    "Когда вы создали базу данных и ее закоммитили, вы можете открыть её через DBrowser (flashback прошлый семинар) и проверить правильно ли она у вас создалась.\n",
    "\n",
    "**И немного о безопасности**: при создании запроса нельзя использовать конкатенацию строк и форматирование строк, как в питоне. Это сделает ваше приложение уязвимым для SQL-инъекций - особых хакерских атак, которые заключаются в подставлении в запрос нежелательных комманд - например, DROP TABLE. Поподробнее об этом можно почитать [вот здесь](https://habrahabr.ru/post/148151/).\n",
    "\n",
    "![](https://imgs.xkcd.com/comics/exploits_of_a_mom.png)"
   ]
  },
  {
   "cell_type": "code",
   "execution_count": 3,
   "metadata": {},
   "outputs": [
    {
     "name": "stdout",
     "output_type": "stream",
     "text": [
      "('Петя', 'филология', 1)\n"
     ]
    }
   ],
   "source": [
    "# Так нельзя!\n",
    "name = 'Петя'\n",
    "c.execute(\"SELECT * FROM students WHERE name = '%s'\" % name)\n",
    "\n",
    "# Вот как надо\n",
    "x = ('Петя',)\n",
    "c.execute('SELECT * FROM students WHERE name=?', x)\n",
    "print(c.fetchone())"
   ]
  },
  {
   "cell_type": "code",
   "execution_count": 3,
   "metadata": {},
   "outputs": [
    {
     "name": "stdout",
     "output_type": "stream",
     "text": [
      "('Петя', 'филология', 1)\n",
      "('Настя', 'лингвистика', 4)\n"
     ]
    }
   ],
   "source": [
    "# Если результатом запроса является несколько строк, можно по ним итерировать\n",
    "\n",
    "for row in c.execute('SELECT * FROM students ORDER BY year'):\n",
    "    print(row)"
   ]
  },
  {
   "cell_type": "code",
   "execution_count": 4,
   "metadata": {},
   "outputs": [],
   "source": [
    "# как подставить несколько переменных в sql-запрос\n",
    "\n",
    "x = 'Аня'\n",
    "y = 'математика'\n",
    "z = 3\n",
    "\n",
    "c.execute('INSERT INTO students VALUES (?, ?, ?)', (x, y, z))\n",
    "conn.commit()"
   ]
  },
  {
   "cell_type": "markdown",
   "metadata": {},
   "source": [
    "#### Форматирование строк\n",
    "\n",
    "Если нужно подставить переменные в качестве названия таблицы или колонок, то придется использовать форматирование строк."
   ]
  },
  {
   "cell_type": "code",
   "execution_count": 5,
   "metadata": {},
   "outputs": [
    {
     "data": {
      "text/plain": [
       "<sqlite3.Cursor at 0x4dc67a0>"
      ]
     },
     "execution_count": 5,
     "metadata": {},
     "output_type": "execute_result"
    }
   ],
   "source": [
    "params = ['vowel', 'f1', 'f2']\n",
    "c.execute('CREATE TABLE vowels({}, {}, {})'.format(params[0], params[1], params[2]))"
   ]
  },
  {
   "cell_type": "code",
   "execution_count": 6,
   "metadata": {},
   "outputs": [
    {
     "data": {
      "text/plain": [
       "<sqlite3.Cursor at 0x4dc67a0>"
      ]
     },
     "execution_count": 6,
     "metadata": {},
     "output_type": "execute_result"
    }
   ],
   "source": [
    "# как написать длинный запрос посимпатичнее\n",
    "c.execute('''\n",
    "INSERT INTO vowels \n",
    "VALUES \n",
    "('a', 1234.56, 4567.8), \n",
    "('u', 1111.1, 3333.3)'''\n",
    ")"
   ]
  },
  {
   "cell_type": "code",
   "execution_count": 7,
   "metadata": {},
   "outputs": [
    {
     "name": "stdout",
     "output_type": "stream",
     "text": [
      "('a', 1234.56, 4567.8)\n",
      "('u', 1111.1, 3333.3)\n"
     ]
    }
   ],
   "source": [
    "for row in c.execute('SELECT * FROM vowels'):\n",
    "    print(row)"
   ]
  },
  {
   "cell_type": "markdown",
   "metadata": {},
   "source": [
    "#### Функции курсора\n",
    "\n",
    "* **fetchone()** -- возвращает следующий элемент из результата запроса (т.е. одну строку из бд). Результат -- кортеж, где элементом является значение каждой из колонок или None\n",
    "* **fetchall()** -- возвращает все результаты запроса в виде списка\n",
    "* **fetchmany()** -- возвращает заданное количество строк из результатов запроса"
   ]
  },
  {
   "cell_type": "code",
   "execution_count": 8,
   "metadata": {},
   "outputs": [
    {
     "name": "stdout",
     "output_type": "stream",
     "text": [
      "('Петя', 'филология', 1)\n",
      "('Аня', 'математика', 3)\n",
      "('Настя', 'лингвистика', 4)\n"
     ]
    }
   ],
   "source": [
    "# извлекаем строки по одной\n",
    "# обратите внимание, что после каждого вызова fetchone возвращает следующую строку!\n",
    "c.execute('SELECT * FROM students ORDER BY year')\n",
    "print(c.fetchone())\n",
    "print(c.fetchone())\n",
    "print(c.fetchone())"
   ]
  },
  {
   "cell_type": "code",
   "execution_count": 9,
   "metadata": {},
   "outputs": [
    {
     "name": "stdout",
     "output_type": "stream",
     "text": [
      "[('Петя', 'филология', 1), ('Аня', 'математика', 3)]\n"
     ]
    }
   ],
   "source": [
    "# извлекаем две строки\n",
    "c.execute('SELECT * FROM students ORDER BY year')\n",
    "print(c.fetchmany(2))"
   ]
  },
  {
   "cell_type": "code",
   "execution_count": 10,
   "metadata": {},
   "outputs": [
    {
     "name": "stdout",
     "output_type": "stream",
     "text": [
      "[('Петя', 'филология', 1), ('Аня', 'математика', 3), ('Настя', 'лингвистика', 4)]\n"
     ]
    }
   ],
   "source": [
    "# извлекаем все строки\n",
    "c.execute('SELECT * FROM students ORDER BY year')\n",
    "print(c.fetchall())"
   ]
  },
  {
   "cell_type": "code",
   "execution_count": 11,
   "metadata": {},
   "outputs": [],
   "source": [
    "# Не забудьте отключить от бд, чтобы не тратить память :)\n",
    "conn.close()"
   ]
  },
  {
   "cell_type": "markdown",
   "metadata": {},
   "source": [
    "# Практика\n",
    "\n",
    "* Прочитайте таблицу из файла `rutul_vowels.csv` (находится в папке с семинаром) в датафрейм и посмотрите с помощью .head(), что там вообще за колонки. Или можете просто посмотреть, что это за таблица в notepad++ у себя на компе\n",
    "\n",
    "Записать данные из файла в новую базу данных можно двумя способами:\n",
    "\n",
    "1. модуль csv и метод `csv.DictReader()`. Создайте новую базу данных и создайте в этой базе данных новую таблицу с колонками, соответствующими колонкам в rutul_vowels. Прочитать файл и построчно записать всё в базу данных с помощью `c.executemany()`\n",
    "2. В модуле pandas есть функция `df.to_sql()`. Тут нужно только создать новый connection и новый cursor. Самостоятельно делать CREATE новой таблицы с правильными названиями всех колонок - не надо! В целом этот способо в сто раз круче."
   ]
  },
  {
   "cell_type": "markdown",
   "metadata": {},
   "source": [
    "### Ответ"
   ]
  },
  {
   "cell_type": "code",
   "execution_count": 12,
   "metadata": {},
   "outputs": [],
   "source": [
    "import pandas as pd\n",
    "import csv\n",
    "import sqlite3"
   ]
  },
  {
   "cell_type": "code",
   "execution_count": 13,
   "metadata": {},
   "outputs": [],
   "source": [
    "df = pd.read_csv('rutul_vowels.csv', sep=',', encoding='utf-8')"
   ]
  },
  {
   "cell_type": "code",
   "execution_count": 14,
   "metadata": {},
   "outputs": [
    {
     "data": {
      "text/html": [
       "<div>\n",
       "<style scoped>\n",
       "    .dataframe tbody tr th:only-of-type {\n",
       "        vertical-align: middle;\n",
       "    }\n",
       "\n",
       "    .dataframe tbody tr th {\n",
       "        vertical-align: top;\n",
       "    }\n",
       "\n",
       "    .dataframe thead th {\n",
       "        text-align: right;\n",
       "    }\n",
       "</style>\n",
       "<table border=\"1\" class=\"dataframe\">\n",
       "  <thead>\n",
       "    <tr style=\"text-align: right;\">\n",
       "      <th></th>\n",
       "      <th>id</th>\n",
       "      <th>word</th>\n",
       "      <th>translation</th>\n",
       "      <th>vowel</th>\n",
       "      <th>stress</th>\n",
       "      <th>syllable</th>\n",
       "      <th>left_context</th>\n",
       "    </tr>\n",
       "  </thead>\n",
       "  <tbody>\n",
       "    <tr>\n",
       "      <th>0</th>\n",
       "      <td>1</td>\n",
       "      <td>χed</td>\n",
       "      <td>дикая алыча</td>\n",
       "      <td>e</td>\n",
       "      <td>yes</td>\n",
       "      <td>cvc</td>\n",
       "      <td>χ</td>\n",
       "    </tr>\n",
       "    <tr>\n",
       "      <th>1</th>\n",
       "      <td>2</td>\n",
       "      <td>eked</td>\n",
       "      <td>старший</td>\n",
       "      <td>e</td>\n",
       "      <td>no</td>\n",
       "      <td>cv</td>\n",
       "      <td>no</td>\n",
       "    </tr>\n",
       "    <tr>\n",
       "      <th>2</th>\n",
       "      <td>3</td>\n",
       "      <td>ɢina</td>\n",
       "      <td>в Кинe</td>\n",
       "      <td>i</td>\n",
       "      <td>yes</td>\n",
       "      <td>cv</td>\n",
       "      <td>ɢ</td>\n",
       "    </tr>\n",
       "    <tr>\n",
       "      <th>3</th>\n",
       "      <td>4</td>\n",
       "      <td>χuda</td>\n",
       "      <td>в кулаке</td>\n",
       "      <td>u</td>\n",
       "      <td>no</td>\n",
       "      <td>cv</td>\n",
       "      <td>χ</td>\n",
       "    </tr>\n",
       "    <tr>\n",
       "      <th>4</th>\n",
       "      <td>5</td>\n",
       "      <td>ʁuli</td>\n",
       "      <td>в окне</td>\n",
       "      <td>u</td>\n",
       "      <td>no</td>\n",
       "      <td>cv</td>\n",
       "      <td>ʁ</td>\n",
       "    </tr>\n",
       "  </tbody>\n",
       "</table>\n",
       "</div>"
      ],
      "text/plain": [
       "   id  word  translation vowel stress syllable left_context\n",
       "0   1   χed  дикая алыча     e    yes      cvc            χ\n",
       "1   2  eked      старший     e     no       cv           no\n",
       "2   3  ɢina       в Кинe     i    yes       cv            ɢ\n",
       "3   4  χuda     в кулаке     u     no       cv            χ\n",
       "4   5  ʁuli       в окне     u     no       cv            ʁ"
      ]
     },
     "execution_count": 14,
     "metadata": {},
     "output_type": "execute_result"
    }
   ],
   "source": [
    "df.head()"
   ]
  },
  {
   "cell_type": "code",
   "execution_count": 15,
   "metadata": {},
   "outputs": [],
   "source": [
    "con = sqlite3.connect(\"rutul.db\")\n",
    "cur = con.cursor()"
   ]
  },
  {
   "cell_type": "markdown",
   "metadata": {},
   "source": [
    "Воспользуемся вторым, более клёвым способом:"
   ]
  },
  {
   "cell_type": "code",
   "execution_count": 16,
   "metadata": {},
   "outputs": [],
   "source": [
    "df.to_sql(name='rutul', con=con, if_exists='replace')"
   ]
  },
  {
   "cell_type": "markdown",
   "metadata": {},
   "source": [
    "Проверим, что таблица базы данных созадалась:\n",
    "\n",
    "(Либо можно открыть в DBrowser и поглядеть там, что всё нормально)"
   ]
  },
  {
   "cell_type": "code",
   "execution_count": 17,
   "metadata": {},
   "outputs": [
    {
     "name": "stdout",
     "output_type": "stream",
     "text": [
      "(0, 1, 'χed', 'дикая алыча', 'e', 'yes', 'cvc', 'χ')\n",
      "(1, 2, 'eked', 'старший', 'e', 'no', 'cv', 'no')\n",
      "(2, 3, 'ɢina', 'в Кинe', 'i', 'yes', 'cv', 'ɢ')\n",
      "(3, 4, 'χuda', 'в кулаке', 'u', 'no', 'cv', 'χ')\n",
      "(4, 5, 'ʁuli', 'в окне', 'u', 'no', 'cv', 'ʁ')\n",
      "(5, 6, 'ɢuje', 'в яме', 'u', 'yes', 'cv', 'ɢ')\n",
      "(6, 7, 'qaka', 'отдай назад', 'a', 'yes', 'cv', 'q')\n",
      "(7, 8, 'qiq’a', 'возвращайся', 'i', 'yes', 'cv', 'q')\n",
      "(8, 9, 'χɨd', 'липа', 'ɨ', 'yes', 'cvc', 'χ')\n",
      "(9, 10, 'ʁɨˁbar', 'лягушки', 'ɨˁ', 'no', 'cv', 'ʁ')\n",
      "(10, 11, 'χaˁrad', 'масло', 'aˁ', 'no', 'cv', 'χ')\n",
      "(11, 12, 'itɨd', 'медовый', 'i', 'yes', 'cv', 'no')\n",
      "(12, 13, 'uˁbra', 'мерка для муки', 'uˁ', 'no', 'cv', 'no')\n"
     ]
    }
   ],
   "source": [
    "for row in cur.execute('SELECT * FROM rutul'):\n",
    "    print(row)"
   ]
  },
  {
   "cell_type": "code",
   "execution_count": 6,
   "metadata": {},
   "outputs": [
    {
     "name": "stdout",
     "output_type": "stream",
     "text": [
      "('e', 'дикая алыча', 'cvc')\n",
      "('e', 'старший', 'cv')\n",
      "('i', 'в Кинe', 'cv')\n",
      "('u', 'в кулаке', 'cv')\n",
      "('u', 'в окне', 'cv')\n",
      "('u', 'в яме', 'cv')\n",
      "('a', 'отдай назад', 'cv')\n",
      "('i', 'возвращайся', 'cv')\n",
      "('ɨ', 'липа', 'cvc')\n",
      "('ɨˁ', 'лягушки', 'cv')\n",
      "('aˁ', 'масло', 'cv')\n",
      "('i', 'медовый', 'cv')\n",
      "('uˁ', 'мерка для муки', 'cv')\n"
     ]
    }
   ],
   "source": [
    "import sqlite3\n",
    "import csv\n",
    "con = sqlite3.connect(\"rutul3.db\")\n",
    "cur = con.cursor()\n",
    "cur.execute(\"DROP TABLE IF EXISTS rutul3\")\n",
    "cur.execute(\"CREATE TABLE rutul3 (vowel, translation, syllable);\")  # тут надо аккуратно переписать названия всех колонок\n",
    "\n",
    "with open('rutul_vowels.csv','r', encoding='utf-8') as fin:\n",
    "    dr = csv.DictReader(fin)  # запятая является разделителем по умолчанию\n",
    "    to_db = [(i['vowel'], i['translation'], i['syllable']) for i in dr]  # снова переписать имена колонок\n",
    "\n",
    "cur.executemany(\"INSERT INTO rutul3 (vowel,translation, syllable) VALUES (?, ?, ?);\", to_db)  # и снова переписать имена колонок\n",
    "\n",
    "for i in cur.execute(\"SELECT * FROM rutul3\"):\n",
    "    print(i)\n",
    "    \n",
    "con.commit()\n",
    "con.close()"
   ]
  },
  {
   "cell_type": "code",
   "execution_count": 31,
   "metadata": {},
   "outputs": [
    {
     "name": "stdout",
     "output_type": "stream",
     "text": [
      "('10', 'ʁɨˁbar', 'лягушки', 'ɨˁ', 'no', 'cv')\n"
     ]
    }
   ],
   "source": [
    "import sqlite3\n",
    "\n",
    "with open('rutul_vowels.csv', 'r', encoding='utf-8') as f:\n",
    "    f = f.readlines()\n",
    "\n",
    "# подключаемся к базе данных\n",
    "conn = sqlite3.connect('rutul2.db')\n",
    "\n",
    "# создаем объект \"курсор\", которому будем передавать запросы\n",
    "c = conn.cursor()\n",
    "\n",
    "# создаем таблицу\n",
    "c.execute(\"DROP TABLE IF EXISTS rutul\")\n",
    "c.execute(\"CREATE TABLE IF NOT EXISTS rutul(id,word,translation,vowel,stress,syllable)\")\n",
    "\n",
    "for row in f:\n",
    "    row = row.split(',')\n",
    "    c.execute(\"INSERT INTO rutul VALUES (?, ?, ?, ?, ?, ?)\", (row[0], row[1], row[2], row[3], row[4], row[5]))\n",
    "\n",
    "# сохраняем изменения\n",
    "conn.commit()\n",
    "\n",
    "for i in c.execute(\"SELECT * FROM rutul WHERE vowel='ɨˁ' AND stress='no' AND syllable='cv'\"):\n",
    "    print(i)\n",
    "\n",
    "# отключаемся от БД\n",
    "conn.close()"
   ]
  },
  {
   "cell_type": "markdown",
   "metadata": {},
   "source": [
    "### Вторая часть этого задания на составление запросов\n",
    "\n",
    "Теперь можно написать какие-нибудь запросы к созданной базе данных.\n",
    "\n",
    "* Распечатайте все слова, в которых целевая гласная находится в безударной позиции\n",
    "* Распечатайте все слова, в которых целевая гласная в безударной позиции и нет левого контекста"
   ]
  },
  {
   "cell_type": "code",
   "execution_count": 19,
   "metadata": {},
   "outputs": [
    {
     "name": "stdout",
     "output_type": "stream",
     "text": [
      "[(1, 2, 'eked', 'старший', 'e', 'no', 'cv', 'no'), (3, 4, 'χuda', 'в кулаке', 'u', 'no', 'cv', 'χ'), (4, 5, 'ʁuli', 'в окне', 'u', 'no', 'cv', 'ʁ'), (9, 10, 'ʁɨˁbar', 'лягушки', 'ɨˁ', 'no', 'cv', 'ʁ'), (10, 11, 'χaˁrad', 'масло', 'aˁ', 'no', 'cv', 'χ'), (12, 13, 'uˁbra', 'мерка для муки', 'uˁ', 'no', 'cv', 'no')]\n"
     ]
    }
   ],
   "source": [
    "# Тут нужно писать запросы к получившейся базе\n",
    "cur.execute('SELECT * FROM rutul WHERE stress=\"no\"')\n",
    "print(cur.fetchall())\n"
   ]
  },
  {
   "cell_type": "code",
   "execution_count": 20,
   "metadata": {},
   "outputs": [
    {
     "name": "stdout",
     "output_type": "stream",
     "text": [
      "[(1, 2, 'eked', 'старший', 'e', 'no', 'cv', 'no'), (12, 13, 'uˁbra', 'мерка для муки', 'uˁ', 'no', 'cv', 'no')]\n"
     ]
    }
   ],
   "source": [
    "cur.execute('SELECT * FROM rutul WHERE stress=\"no\" AND left_context=\"no\"')\n",
    "print(cur.fetchall())"
   ]
  },
  {
   "cell_type": "code",
   "execution_count": 21,
   "metadata": {},
   "outputs": [],
   "source": [
    "# Не забыть!\n",
    "con.close()"
   ]
  }
 ],
 "metadata": {
  "kernelspec": {
   "display_name": "Python 3",
   "language": "python",
   "name": "python3"
  },
  "language_info": {
   "codemirror_mode": {
    "name": "ipython",
    "version": 3
   },
   "file_extension": ".py",
   "mimetype": "text/x-python",
   "name": "python",
   "nbconvert_exporter": "python",
   "pygments_lexer": "ipython3",
   "version": "3.6.5"
  }
 },
 "nbformat": 4,
 "nbformat_minor": 2
}
