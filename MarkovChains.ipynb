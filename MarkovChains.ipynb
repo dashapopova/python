{
 "cells": [
  {
   "cell_type": "code",
   "execution_count": 2,
   "metadata": {},
   "outputs": [
    {
     "data": {
      "text/html": [
       "<div>\n",
       "<style scoped>\n",
       "    .dataframe tbody tr th:only-of-type {\n",
       "        vertical-align: middle;\n",
       "    }\n",
       "\n",
       "    .dataframe tbody tr th {\n",
       "        vertical-align: top;\n",
       "    }\n",
       "\n",
       "    .dataframe thead th {\n",
       "        text-align: right;\n",
       "    }\n",
       "</style>\n",
       "<table border=\"1\" class=\"dataframe\">\n",
       "  <thead>\n",
       "    <tr style=\"text-align: right;\">\n",
       "      <th></th>\n",
       "      <th>proverb</th>\n",
       "      <th>topic</th>\n",
       "    </tr>\n",
       "  </thead>\n",
       "  <tbody>\n",
       "    <tr>\n",
       "      <th>0</th>\n",
       "      <td>Жить — богу служить.</td>\n",
       "      <td>Бог — Вера</td>\n",
       "    </tr>\n",
       "    <tr>\n",
       "      <th>1</th>\n",
       "      <td>Кто велик, яко бог наш (Влад. Моном.).</td>\n",
       "      <td>Бог — Вера</td>\n",
       "    </tr>\n",
       "    <tr>\n",
       "      <th>2</th>\n",
       "      <td>Не нам, не нам, но имени твоему (т. е. слава).</td>\n",
       "      <td>Бог — Вера</td>\n",
       "    </tr>\n",
       "    <tr>\n",
       "      <th>3</th>\n",
       "      <td>Велико имя господне на земли.</td>\n",
       "      <td>Бог — Вера</td>\n",
       "    </tr>\n",
       "    <tr>\n",
       "      <th>4</th>\n",
       "      <td>В мале бог, и в велике бог.</td>\n",
       "      <td>Бог — Вера</td>\n",
       "    </tr>\n",
       "  </tbody>\n",
       "</table>\n",
       "</div>"
      ],
      "text/plain": [
       "                                          proverb       topic\n",
       "0                            Жить — богу служить.  Бог — Вера\n",
       "1          Кто велик, яко бог наш (Влад. Моном.).  Бог — Вера\n",
       "2  Не нам, не нам, но имени твоему (т. е. слава).  Бог — Вера\n",
       "3                   Велико имя господне на земли.  Бог — Вера\n",
       "4                     В мале бог, и в велике бог.  Бог — Вера"
      ]
     },
     "execution_count": 2,
     "metadata": {},
     "output_type": "execute_result"
    }
   ],
   "source": [
    "import pandas as pd\n",
    "\n",
    "provs = pd.read_csv('dal_proverbs.csv', sep='\\t', encoding='utf-8')\n",
    "provs.head()"
   ]
  },
  {
   "cell_type": "code",
   "execution_count": 3,
   "metadata": {},
   "outputs": [
    {
     "data": {
      "text/plain": [
       "'Не диковина, что кукушка в чужое гнездо полезла, а вот то б  диковина, кабы свое свила. Он сам своей тени боится. Нырять он умеет, только выныривать не умеет. Обойдешь да огладишь, так и на строгого к'"
      ]
     },
     "execution_count": 3,
     "metadata": {},
     "output_type": "execute_result"
    }
   ],
   "source": [
    "shuffled = provs.sample(frac=1)\n",
    "train = ' '.join(shuffled.proverb)\n",
    "train[:200]"
   ]
  },
  {
   "cell_type": "code",
   "execution_count": 4,
   "metadata": {},
   "outputs": [],
   "source": [
    "import markovify\n",
    "\n",
    "m = markovify.Text(train)"
   ]
  },
  {
   "cell_type": "code",
   "execution_count": 5,
   "metadata": {},
   "outputs": [
    {
     "name": "stdout",
     "output_type": "stream",
     "text": [
      "Год не неделя, а все лучше худого ворчанья.\n",
      "Удалой долго не растает.\n",
      "Дай прокормить казенного воробья — без рубахи пойду, а тебя по смерть посылать.\n",
      "Не жилой — не косить, спина не болит.\n",
      "Ныне не спрашивай старого, спрашивай бывалого.\n"
     ]
    }
   ],
   "source": [
    "for i in range(5):\n",
    "    print(m.make_sentence())"
   ]
  },
  {
   "cell_type": "code",
   "execution_count": 6,
   "metadata": {},
   "outputs": [
    {
     "name": "stdout",
     "output_type": "stream",
     "text": [
      "Наг поле перейдет, а наг — ни в масленицу, а привел бог в господина и жить добро.\n",
      "Плохой то вор, что хорошо крадет, а под старость в монахи пошел.\n",
      "Ах, мак, да бояре едят.\n",
      "Люби ссору, люби и отдать.\n",
      "Старинная пословица не для прибыли, а для единого единства и дружного компанства.\n"
     ]
    }
   ],
   "source": [
    "for i in range(5):\n",
    "    print(m.make_short_sentence(max_chars=100))"
   ]
  }
 ],
 "metadata": {
  "kernelspec": {
   "display_name": "Python 3",
   "language": "python",
   "name": "python3"
  },
  "language_info": {
   "codemirror_mode": {
    "name": "ipython",
    "version": 3
   },
   "file_extension": ".py",
   "mimetype": "text/x-python",
   "name": "python",
   "nbconvert_exporter": "python",
   "pygments_lexer": "ipython3",
   "version": "3.6.5"
  }
 },
 "nbformat": 4,
 "nbformat_minor": 2
}
